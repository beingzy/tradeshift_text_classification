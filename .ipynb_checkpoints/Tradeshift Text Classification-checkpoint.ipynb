{
 "metadata": {
  "name": "",
  "signature": "sha256:c78d92a31a8de065fc111d973c10628266638038debaa3ed5793f71ea5bb1357"
 },
 "nbformat": 3,
 "nbformat_minor": 0,
 "worksheets": [
  {
   "cells": [
    {
     "cell_type": "markdown",
     "metadata": {},
     "source": [
      "### Apache Spark Machine Learning\n",
      "This Notebook aims to demonstrate the workflow of conducting text analysis, by utilizing Apache Spark."
     ]
    },
    {
     "cell_type": "code",
     "collapsed": false,
     "input": [
      "import os, sys\n",
      "from numpy import array\n",
      "''' ML Module '''\n",
      "import nltk\n",
      "''' Apache PySpark Module '''\n",
      "from pyspark import SparkConf, SparkContext\n",
      "from pyspark.mllib import classification, regression\n",
      "''' AWS Python API Module '''\n",
      "from boto.s3.connection import S3Connection\n",
      "from boto.s3.key import Key\n",
      "''' AWS Account Access Key '''\n",
      "from aws_keypair import *"
     ],
     "language": "python",
     "metadata": {},
     "outputs": [],
     "prompt_number": 73
    },
    {
     "cell_type": "code",
     "collapsed": false,
     "input": [
      "''' Spark Configuration '''\n",
      "conf = (SparkConf()\n",
      "        .setMaster(\"local\")\n",
      "        .setAppName(\"MLSpark\")\n",
      "        .setSparkHome(\"/Users/beingzy/Documents/kaggle/ttc\")\n",
      "        .set(\"spark.excutor.memory\", \"1g\"))\n",
      "\n",
      "sc = SparkContext()\n",
      "\n",
      "''' AWS S3 connection '''\n",
      "# print aws_key.access_key_id\n",
      "# print aws_key.secret_access_key\n",
      "s3_conn = S3Connection(aws_key.access_key_id, aws_key.secret_access_key)"
     ],
     "language": "python",
     "metadata": {},
     "outputs": [],
     "prompt_number": 61
    },
    {
     "cell_type": "code",
     "collapsed": false,
     "input": [
      "## Data Process\n",
      "# s3_bucket = s3_conn.create_bucket('kaggle_ttc')\n",
      "# s3_bucket = s3_conn.get_bucket('kaggle_ttc')\n",
      "# print \"trainLabel data file's size: %d MB\" % ( os.stat(os.getcwd() + '/data/trainLabels').st_size )"
     ],
     "language": "python",
     "metadata": {},
     "outputs": [],
     "prompt_number": 59
    },
    {
     "cell_type": "code",
     "collapsed": false,
     "input": [
      "## Natural Languge Process\n",
      "data = sc.textFile('/Users/beingzy/spark/data/mllib/sample_svm_data.txt')\n",
      "# parsedData = data.map{line =>\n",
      "#                     val parts = line.split('')\n",
      "#                     regression.LabeledPoint(parts(0).toDouble, parts.tailmap(x => x.toDouble).toArray)\n",
      "#                     }\n",
      "parsedData = (data\n",
      "             .map(lambda line: line.split(''))\n",
      "             .map(lambda words: regression.LabeledPoint(words(0).toDouble\n",
      "                                                        , words.tailmap(lambda x: x.toDouble).toArray)\n",
      "                  )\n",
      "             )"
     ],
     "language": "python",
     "metadata": {},
     "outputs": [],
     "prompt_number": 80
    },
    {
     "cell_type": "code",
     "collapsed": false,
     "input": [
      "## Run training Algorithm to build the model\n"
     ],
     "language": "python",
     "metadata": {},
     "outputs": [
      {
       "ename": "SyntaxError",
       "evalue": "invalid syntax (<ipython-input-86-926a59d5dfe4>, line 1)",
       "output_type": "pyerr",
       "traceback": [
        "\u001b[0;36m  File \u001b[0;32m\"<ipython-input-86-926a59d5dfe4>\"\u001b[0;36m, line \u001b[0;32m1\u001b[0m\n\u001b[0;31m    modeling = [\"ax\": \"val\"]\u001b[0m\n\u001b[0m                    ^\u001b[0m\n\u001b[0;31mSyntaxError\u001b[0m\u001b[0;31m:\u001b[0m invalid syntax\n"
       ]
      }
     ],
     "prompt_number": 86
    },
    {
     "cell_type": "code",
     "collapsed": false,
     "input": [
      "modeling[\"ax\"]"
     ],
     "language": "python",
     "metadata": {},
     "outputs": [
      {
       "metadata": {},
       "output_type": "pyout",
       "prompt_number": 84,
       "text": [
        "'val'"
       ]
      }
     ],
     "prompt_number": 84
    },
    {
     "cell_type": "code",
     "collapsed": false,
     "input": [],
     "language": "python",
     "metadata": {},
     "outputs": []
    }
   ],
   "metadata": {}
  }
 ]
}