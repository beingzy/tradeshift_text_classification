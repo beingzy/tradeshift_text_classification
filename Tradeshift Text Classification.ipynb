{
 "metadata": {
  "name": "",
  "signature": "sha256:9f062ee2bd191cb6b6c4abaf0cf8b6b66ce54984594c0c29de72ccd3c1c61a11"
 },
 "nbformat": 3,
 "nbformat_minor": 0,
 "worksheets": [
  {
   "cells": [
    {
     "cell_type": "code",
     "collapsed": false,
     "input": [
      "from pyspark import SparkConf, SparkContext"
     ],
     "language": "python",
     "metadata": {},
     "outputs": [],
     "prompt_number": 1
    },
    {
     "cell_type": "code",
     "collapsed": false,
     "input": [
      "''' Spark Configuration '''\n",
      "conf = (SparkConf()\n",
      "        .setMaster(\"local\")\n",
      "        .setAppName(\"MLSpark\")\n",
      "        .setSparkHome(\"/Users/beingzy/Documents/spark\")\n",
      "        .set(\"spark.excutor.memory\", \"1g\"))"
     ],
     "language": "python",
     "metadata": {},
     "outputs": []
    }
   ],
   "metadata": {}
  }
 ]
}